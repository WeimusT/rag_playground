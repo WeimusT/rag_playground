{
  "cells": [
    {
      "cell_type": "markdown",
      "source": [
        "# LangChain Retrieval Augmented Generation Example 1\n",
        "\n",
        "[Build a Retrieval Augmented Generation (RAG) App: Part 1](https://python.langchain.com/docs/tutorials/rag/)\n",
        "\n",
        "Introduce the basic components of a RAG system and how they should be connected, including \n",
        "* document loader, \n",
        "* document splitter, \n",
        "* embedding model, \n",
        "* LLM model, \n",
        "* vector store,\n",
        "* LangChain workflow\n",
        "    * query analysis step\n",
        "    * document retrieval\n",
        "    * generator"
      ],
      "metadata": {}
    },
    {
      "cell_type": "code",
      "source": [
        "import dotenv\n",
        "import sys\n",
        "from pathlib import Path\n",
        "\n",
        "## Setup Environment\n",
        "sys.path.append(Path.cwd().parent) # Append project home to system path\n",
        "dotenv.load_dotenv() # Load .env"
      ],
      "outputs": [
        {
          "output_type": "execute_result",
          "execution_count": 3,
          "data": {
            "text/plain": "True"
          },
          "metadata": {}
        }
      ],
      "execution_count": 3,
      "metadata": {
        "gather": {
          "logged": 1740341523619
        }
      }
    },
    {
      "cell_type": "markdown",
      "source": [
        "## Construct LLM"
      ],
      "metadata": {
        "nteract": {
          "transient": {
            "deleting": false
          }
        }
      }
    },
    {
      "cell_type": "code",
      "source": [
        "from langchain.chat_models import init_chat_model\n",
        "from langchain_openai import OpenAIEmbeddings\n",
        "from langchain_core.vectorstores import InMemoryVectorStore"
      ],
      "outputs": [],
      "execution_count": 4,
      "metadata": {
        "gather": {
          "logged": 1740341526410
        }
      }
    },
    {
      "cell_type": "code",
      "source": [
        "# LLM\n",
        "llm = init_chat_model(\"gpt-4o-mini\", model_provider=\"openai\")\n",
        "\n",
        "# Embeding\n",
        "embeddings = OpenAIEmbeddings(model=\"text-embedding-3-large\")"
      ],
      "outputs": [],
      "execution_count": 5,
      "metadata": {
        "gather": {
          "logged": 1740341526670
        }
      }
    },
    {
      "cell_type": "markdown",
      "source": [
        "## Get Documents"
      ],
      "metadata": {
        "nteract": {
          "transient": {
            "deleting": false
          }
        }
      }
    },
    {
      "cell_type": "code",
      "source": [
        "import bs4\n",
        "from langchain import hub\n",
        "from langchain_community.document_loaders import WebBaseLoader\n",
        "from langchain_core.documents import Document\n",
        "from langchain_text_splitters import RecursiveCharacterTextSplitter\n",
        "from langgraph.graph import START, StateGraph\n",
        "from typing_extensions import List, TypedDict"
      ],
      "outputs": [
        {
          "output_type": "stream",
          "name": "stderr",
          "text": "USER_AGENT environment variable not set, consider setting it to identify your requests.\n"
        }
      ],
      "execution_count": 6,
      "metadata": {
        "gather": {
          "logged": 1740341527389
        }
      }
    },
    {
      "cell_type": "code",
      "source": [
        "# Load and chunk contents of the blog\n",
        "loader = WebBaseLoader(\n",
        "    web_paths=(\"https://lilianweng.github.io/posts/2023-06-23-agent/\",),\n",
        "    bs_kwargs=dict(\n",
        "        parse_only=bs4.SoupStrainer(\n",
        "            class_=(\"post-content\", \"post-title\", \"post-header\")\n",
        "        )\n",
        "    ),\n",
        ")\n",
        "\n",
        "docs = loader.load()\n",
        "print(docs[0].page_content[:500])"
      ],
      "outputs": [
        {
          "output_type": "stream",
          "name": "stdout",
          "text": "\n\n      LLM Powered Autonomous Agents\n    \nDate: June 23, 2023  |  Estimated Reading Time: 31 min  |  Author: Lilian Weng\n\n\nBuilding agents with LLM (large language model) as its core controller is a cool concept. Several proof-of-concepts demos, such as AutoGPT, GPT-Engineer and BabyAGI, serve as inspiring examples. The potentiality of LLM extends beyond generating well-written copies, stories, essays and programs; it can be framed as a powerful general problem solver.\nAgent System Overview#\nIn\n"
        }
      ],
      "execution_count": 7,
      "metadata": {
        "gather": {
          "logged": 1740341527746
        }
      }
    },
    {
      "cell_type": "markdown",
      "source": [
        "## Split Documents \n",
        "\n",
        "The RecursiveCharacterTextSplitter is a text splitting utility provided by LangChain designed to break down long documents into smaller, manageable chunks while trying to preserve semantic coherence. It recursively splits the document using common separators like new lines until each chunk is the appropriate size. This is the recommended text splitter for generic text use cases.\n",
        "\n",
        "The algorithm begins by trying to split the text using the largest or most meaningful separator (for example, a double newline or paragraph break). If a chunk is still too long, it recursively applies smaller separators (such as single newline characters, punctuation, or even individual characters) until the chunks meet the desired length.\n"
      ],
      "metadata": {
        "nteract": {
          "transient": {
            "deleting": false
          }
        }
      }
    },
    {
      "cell_type": "code",
      "source": [
        "# Split document using RecursiveCharacterTextSplitter\n",
        "text_splitter = RecursiveCharacterTextSplitter(chunk_size=1000, chunk_overlap=200)\n",
        "all_splits = text_splitter.split_documents(docs)\n",
        "all_splits[:5]"
      ],
      "outputs": [
        {
          "output_type": "execute_result",
          "execution_count": 8,
          "data": {
            "text/plain": "[Document(metadata={'source': 'https://lilianweng.github.io/posts/2023-06-23-agent/'}, page_content='LLM Powered Autonomous Agents\\n    \\nDate: June 23, 2023  |  Estimated Reading Time: 31 min  |  Author: Lilian Weng\\n\\n\\nBuilding agents with LLM (large language model) as its core controller is a cool concept. Several proof-of-concepts demos, such as AutoGPT, GPT-Engineer and BabyAGI, serve as inspiring examples. The potentiality of LLM extends beyond generating well-written copies, stories, essays and programs; it can be framed as a powerful general problem solver.\\nAgent System Overview#\\nIn a LLM-powered autonomous agent system, LLM functions as the agent’s brain, complemented by several key components:\\n\\nPlanning\\n\\nSubgoal and decomposition: The agent breaks down large tasks into smaller, manageable subgoals, enabling efficient handling of complex tasks.\\nReflection and refinement: The agent can do self-criticism and self-reflection over past actions, learn from mistakes and refine them for future steps, thereby improving the quality of final results.\\n\\n\\nMemory'),\n Document(metadata={'source': 'https://lilianweng.github.io/posts/2023-06-23-agent/'}, page_content='Memory\\n\\nShort-term memory: I would consider all the in-context learning (See Prompt Engineering) as utilizing short-term memory of the model to learn.\\nLong-term memory: This provides the agent with the capability to retain and recall (infinite) information over extended periods, often by leveraging an external vector store and fast retrieval.\\n\\n\\nTool use\\n\\nThe agent learns to call external APIs for extra information that is missing from the model weights (often hard to change after pre-training), including current information, code execution capability, access to proprietary information sources and more.'),\n Document(metadata={'source': 'https://lilianweng.github.io/posts/2023-06-23-agent/'}, page_content='Fig. 1. Overview of a LLM-powered autonomous agent system.\\nComponent One: Planning#\\nA complicated task usually involves many steps. An agent needs to know what they are and plan ahead.\\nTask Decomposition#\\nChain of thought (CoT; Wei et al. 2022) has become a standard prompting technique for enhancing model performance on complex tasks. The model is instructed to “think step by step” to utilize more test-time computation to decompose hard tasks into smaller and simpler steps. CoT transforms big tasks into multiple manageable tasks and shed lights into an interpretation of the model’s thinking process.'),\n Document(metadata={'source': 'https://lilianweng.github.io/posts/2023-06-23-agent/'}, page_content='Tree of Thoughts (Yao et al. 2023) extends CoT by exploring multiple reasoning possibilities at each step. It first decomposes the problem into multiple thought steps and generates multiple thoughts per step, creating a tree structure. The search process can be BFS (breadth-first search) or DFS (depth-first search) with each state evaluated by a classifier (via a prompt) or majority vote.\\nTask decomposition can be done (1) by LLM with simple prompting like \"Steps for XYZ.\\\\n1.\", \"What are the subgoals for achieving XYZ?\", (2) by using task-specific instructions; e.g. \"Write a story outline.\" for writing a novel, or (3) with human inputs.'),\n Document(metadata={'source': 'https://lilianweng.github.io/posts/2023-06-23-agent/'}, page_content='Another quite distinct approach, LLM+P (Liu et al. 2023), involves relying on an external classical planner to do long-horizon planning. This approach utilizes the Planning Domain Definition Language (PDDL) as an intermediate interface to describe the planning problem. In this process, LLM (1) translates the problem into “Problem PDDL”, then (2) requests a classical planner to generate a PDDL plan based on an existing “Domain PDDL”, and finally (3) translates the PDDL plan back into natural language. Essentially, the planning step is outsourced to an external tool, assuming the availability of domain-specific PDDL and a suitable planner which is common in certain robotic setups but not in many other domains.\\nSelf-Reflection#\\nSelf-reflection is a vital aspect that allows autonomous agents to improve iteratively by refining past action decisions and correcting previous mistakes. It plays a crucial role in real-world tasks where trial and error are inevitable.')]"
          },
          "metadata": {}
        }
      ],
      "execution_count": 8,
      "metadata": {
        "gather": {
          "logged": 1740341528047
        }
      }
    },
    {
      "cell_type": "markdown",
      "source": [
        "## Store Documents\n",
        "\n",
        "Document chunk are stored in the vector database. \n",
        "\n",
        "Each document chunk consists of content and metadata. By default, the metadata contains the `source` for the original document of the chunk. We can also add other metadata to document chunk. For example, here we add the position of the chunk in the document."
      ],
      "metadata": {
        "nteract": {
          "transient": {
            "deleting": false
          }
        }
      }
    },
    {
      "cell_type": "code",
      "source": [
        "## Attach metadata to the document\n",
        "total_documents = len(all_splits)\n",
        "third = total_documents // 3\n",
        "\n",
        "for i, document in enumerate(all_splits):\n",
        "    if i < third:\n",
        "        document.metadata[\"section\"] = \"beginning\"\n",
        "    elif i < 2 * third:\n",
        "        document.metadata[\"section\"] = \"middle\"\n",
        "    else:\n",
        "        document.metadata[\"section\"] = \"end\"\n",
        "\n",
        "\n",
        "all_splits[2].metadata"
      ],
      "outputs": [
        {
          "output_type": "execute_result",
          "execution_count": 33,
          "data": {
            "text/plain": "{'source': 'https://lilianweng.github.io/posts/2023-06-23-agent/',\n 'section': 'beginning'}"
          },
          "metadata": {}
        }
      ],
      "execution_count": 33,
      "metadata": {
        "gather": {
          "logged": 1740343291919
        }
      }
    },
    {
      "cell_type": "markdown",
      "source": [
        "Add document chunks into the vector store. \n",
        "\n",
        "Here we used an in-memory vector datastore for demonstration purposes."
      ],
      "metadata": {
        "nteract": {
          "transient": {
            "deleting": false
          }
        }
      }
    },
    {
      "cell_type": "code",
      "source": [
        "# vector store\n",
        "vector_store = InMemoryVectorStore(embeddings)"
      ],
      "outputs": [],
      "execution_count": 48,
      "metadata": {
        "gather": {
          "logged": 1740343599803
        }
      }
    },
    {
      "cell_type": "code",
      "source": [
        "# Index chunks\n",
        "document_ids = vector_store.add_documents(documents=all_splits)\n",
        "\n",
        "print(\"Total documents: %d\" % (len(vector_store.store)))\n",
        "print(\"Top three document IDs: %s\" % (str(document_ids[:3])))\n",
        "print(\"Example document: %s\" % (str(vector_store.get_by_ids([document_ids[1]]))))"
      ],
      "outputs": [
        {
          "output_type": "stream",
          "name": "stdout",
          "text": "Total documents: 66\nTop three document IDs: ['78382b8e-4320-47a1-95bc-70e3c215868d', '5fc67bcb-4fab-4cc1-91bc-30a4a31cdcd0', '28e12b5d-cf79-42e1-beb9-894f7495b923']\nExample document: [Document(id='5fc67bcb-4fab-4cc1-91bc-30a4a31cdcd0', metadata={'source': 'https://lilianweng.github.io/posts/2023-06-23-agent/', 'section': 'beginning'}, page_content='Memory\\n\\nShort-term memory: I would consider all the in-context learning (See Prompt Engineering) as utilizing short-term memory of the model to learn.\\nLong-term memory: This provides the agent with the capability to retain and recall (infinite) information over extended periods, often by leveraging an external vector store and fast retrieval.\\n\\n\\nTool use\\n\\nThe agent learns to call external APIs for extra information that is missing from the model weights (often hard to change after pre-training), including current information, code execution capability, access to proprietary information sources and more.')]\n"
        }
      ],
      "execution_count": 49,
      "metadata": {
        "gather": {
          "logged": 1740343601299
        }
      }
    },
    {
      "cell_type": "markdown",
      "source": [
        "## RAG Chain\n",
        "\n",
        "Retrieve and Generation"
      ],
      "metadata": {}
    },
    {
      "cell_type": "markdown",
      "source": [
        "### Query Analysis Step\n",
        "\n",
        "Query analyzing is a useful step. It ananlyzes the user input question using LLM and generates a structured RAG queries to help retrieval.  \n",
        "For example, some user input questions are multifaceted, including irrelavent context, or with filters. These questions need to be analyzed and rewritten for the RAG system to more accurate retrieval. For input question with filters, such as \"Find document since year 2020\", the year element is extracted by the query analyzer, and is evaluated as filter to only select documents published after 2020 to query. \n",
        "\n",
        "A few key points to implementation of a query analysis step.\n",
        "* Define the a structured `Search` object using `TypeDict` and `Annotated` typed fields.\n",
        "* The use of `Annotated` is purely for documentation or external tools—it doesn't change runtime behavior but helps guide LLM outputs. \n",
        "* The annotation is the query which LLM uses to extract and populate the fields.\n",
        "* THe function `llm.with_structured_output(Search)` modifies the behavior of the LLM so that it generates output conforming to the Search schema. Instead of returning a free-text response, the LLM formats the response as a dictionary matching `Search`.\n",
        "\n",
        "Note: Multifacted query example - can you help me find information on the latest trends in artificial intelligence, including recent research papers, key industry players, and potential ethical concerns?\n"
      ],
      "metadata": {
        "nteract": {
          "transient": {
            "deleting": false
          }
        }
      }
    },
    {
      "cell_type": "code",
      "source": [
        "from typing import Literal\n",
        "from typing_extensions import Annotated"
      ],
      "outputs": [],
      "execution_count": 50,
      "metadata": {
        "gather": {
          "logged": 1740343610835
        }
      }
    },
    {
      "cell_type": "code",
      "source": [
        "# Define search query\n",
        "class Search(TypedDict):\n",
        "    \"\"\"Search query. Field annotation are used by the LLM to populate value.\"\"\"\n",
        "    query: Annotated[str, ..., \"Search query to run.\"]\n",
        "    section: Annotated[\n",
        "        Literal[\"beginning\", \"middle\", \"end\"],\n",
        "        ...,\n",
        "        \"Section to query.\",\n",
        "    ]\n",
        "\n",
        "# Define state for application\n",
        "class State(TypedDict):\n",
        "    question: str\n",
        "    query: Search\n",
        "    context: List[Document]\n",
        "    answer: str"
      ],
      "outputs": [],
      "execution_count": 51,
      "metadata": {
        "gather": {
          "logged": 1740343612480
        }
      }
    },
    {
      "cell_type": "code",
      "source": [
        "# Define analyze query step\n",
        "def analyze_query(state: State):\n",
        "    \"\"\"Use LLM to analyze the user question and populate a `Search` object based on the annotation of each field.\"\"\"\n",
        "    structured_llm = llm.with_structured_output(Search)\n",
        "    query = structured_llm.invoke(state[\"question\"])\n",
        "    return {\"query\": query}"
      ],
      "outputs": [],
      "execution_count": 76,
      "metadata": {
        "gather": {
          "logged": 1740345817962
        }
      }
    },
    {
      "cell_type": "markdown",
      "source": [
        "### Retrieval Step\n",
        "\n",
        "Use LangGraph to create the Retrieval-Generation chain. LangGraph provides an integrated method to build business logic into a workflow. It also allows human-in-the-loop. To use LangGraph, we need to define three things:\n",
        "* The State of our application;\n",
        "* The steps of our application;\n",
        "* The workflow of our application.\n"
      ],
      "metadata": {}
    },
    {
      "cell_type": "code",
      "source": [
        "from langgraph.graph import StateGraph, START, END"
      ],
      "outputs": [],
      "execution_count": 53,
      "metadata": {
        "gather": {
          "logged": 1740343615007
        }
      }
    },
    {
      "cell_type": "code",
      "source": [
        "# Define application steps\n",
        "def retrieve(vector_store: InMemoryVectorStore):\n",
        "    \"\"\"The retrieve function takes the current application state and performs a similarity \n",
        "    search on a vector store using the question provided in the state. It collects relevant \n",
        "    documents based on semantic similarity. The function then returns these documents as \n",
        "    context for further processing.\"\"\"\n",
        "    def _retrieve(state: State):\n",
        "        query = state['query']\n",
        "        retrieved_docs = vector_store.similarity_search(\n",
        "            query[\"query\"],\n",
        "            filter=lambda doc: doc.metadata.get(\"section\") == query[\"section\"],\n",
        "        )\n",
        "        return {\"context\": retrieved_docs}\n",
        "    return _retrieve"
      ],
      "outputs": [],
      "execution_count": 71,
      "metadata": {
        "gather": {
          "logged": 1740344135135
        }
      }
    },
    {
      "cell_type": "markdown",
      "source": [
        "### Generation Step\n",
        "\n",
        "At the generation step, the RAG system stitch the retrieved context information with rewritten questions for generation.\n",
        "\n",
        "Pre-defined prompts can be pulled from Langchain Hub. "
      ],
      "metadata": {
        "nteract": {
          "transient": {
            "deleting": false
          }
        }
      }
    },
    {
      "cell_type": "code",
      "source": [
        "# Load a simple generation prompt\n",
        "prompt = hub.pull(\"rlm/rag-prompt\")\n",
        "\n",
        "# Print out the prompt\n",
        "example_messages = prompt.invoke(\n",
        "    {\n",
        "        \"context\": \"(context goes here)\",\n",
        "        \"question\": \"(question goes here)\"\n",
        "    }\n",
        ").to_messages()\n",
        "print(example_messages[0].content)"
      ],
      "outputs": [
        {
          "output_type": "stream",
          "name": "stdout",
          "text": "You are an assistant for question-answering tasks. Use the following pieces of retrieved context to answer the question. If you don't know the answer, just say that you don't know. Use three sentences maximum and keep the answer concise.\nQuestion: (question goes here) \nContext: (context goes here) \nAnswer:\n"
        }
      ],
      "execution_count": 68,
      "metadata": {
        "gather": {
          "logged": 1740344040465
        }
      }
    },
    {
      "cell_type": "markdown",
      "source": [
        "Alternatively generation prompt can also be defined by users."
      ],
      "metadata": {
        "nteract": {
          "transient": {
            "deleting": false
          }
        }
      }
    },
    {
      "cell_type": "code",
      "source": [
        "# Alternatively the prompt template can be loaded from user-defined\n",
        "from langchain_core.prompts import PromptTemplate\n",
        "\n",
        "template = \"\"\"Use the following pieces of context to answer the question at the end.\n",
        "If you don't know the answer, just say that you don't know, don't try to make up an answer.\n",
        "Use three sentences maximum and keep the answer as concise as possible.\n",
        "Always say \"thanks for asking!\" at the end of the answer.\n",
        "\n",
        "{context}\n",
        "\n",
        "Question: {question}\n",
        "\n",
        "Helpful Answer:\"\"\"\n",
        "prompt = PromptTemplate.from_template(template)"
      ],
      "outputs": [],
      "execution_count": 57,
      "metadata": {
        "gather": {
          "logged": 1740343640361
        }
      }
    },
    {
      "cell_type": "markdown",
      "source": [
        "Define the generation step."
      ],
      "metadata": {
        "nteract": {
          "transient": {
            "deleting": false
          }
        }
      }
    },
    {
      "cell_type": "code",
      "source": [
        "def generate(state: State):\n",
        "    \"\"\"The generation function concatenates the content of the retrieved documents from the \n",
        "    state into a single text block. It then creates a prompt using the question and the \n",
        "    compiled context, and passes this prompt to a language model for response generation. \n",
        "    Finally, it extracts and returns the generated answer.\n",
        "    \"\"\"\n",
        "    docs_content = \"\\n\\n\".join(doc.page_content for doc in state[\"context\"])\n",
        "    messages = prompt.invoke({\"question\": state[\"question\"], \"context\": docs_content})\n",
        "    response = llm.invoke(messages)\n",
        "    return {\"answer\": response.content}"
      ],
      "outputs": [],
      "execution_count": 58,
      "metadata": {
        "gather": {
          "logged": 1740343641923
        }
      }
    },
    {
      "cell_type": "markdown",
      "source": [
        "### Build RAG Chain and Invoke\n",
        "\n",
        "This code chunk builds a workflow graph for the application. It creates a state-based graph using the State type and adds the retrieve and generate functions in sequence, establishing the order of operations. An edge is then added from a designated start node to the retrieve step, setting the entry point of the workflow. Finally, the graph is compiled into an executable structure that orchestrates the application's logic."
      ],
      "metadata": {}
    },
    {
      "cell_type": "code",
      "source": [
        "from IPython.display import Image, display\n",
        "\n",
        "# Compile a simple RAG system\n",
        "graph_builder = StateGraph(State) # Start a graph builder\n",
        "graph_builder.add_sequence([\n",
        "    analyze_query, \n",
        "    retrieve(vector_store), \n",
        "    generate\n",
        "]) # Add nodes\n",
        "graph_builder.add_edge(START, \"analyze_query\") # Build graph\n",
        "graph_builder.add_edge(\"generate\", END) # Build graph\n",
        "graph = graph_builder.compile() # Compile\n",
        "\n",
        "# Display the application\n",
        "display(Image(graph.get_graph().draw_mermaid_png()))"
      ],
      "outputs": [
        {
          "output_type": "display_data",
          "data": {
            "image/png": "[encoded data removed]",
            "text/plain": "<IPython.core.display.Image object>"
          },
          "metadata": {}
        }
      ],
      "execution_count": 72,
      "metadata": {
        "gather": {
          "logged": 1740344140507
        }
      }
    },
    {
      "cell_type": "code",
      "source": [
        "# Invoke a LangGraph\n",
        "# The invoke mode outputs all steps and output all outputs at once after the last step is executed.\n",
        "response = graph.invoke({\"question\": \"What does the end of the post say about Task Decomposition?\"})\n",
        "\n",
        "print(response[\"context\"], \"\\n\\n\")\n",
        "print(response[\"answer\"])"
      ],
      "outputs": [
        {
          "output_type": "stream",
          "name": "stdout",
          "text": "[Document(id='33414b9f-65b3-4635-a84b-476c4d19a2fe', metadata={'source': 'https://lilianweng.github.io/posts/2023-06-23-agent/', 'section': 'end'}, page_content='You will get instructions for code to write.\\nYou will write a very long answer. Make sure that every detail of the architecture is, in the end, implemented as code.\\nMake sure that every detail of the architecture is, in the end, implemented as code.\\nThink step by step and reason yourself to the right decisions to make sure we get it right.\\nYou will first lay out the names of the core classes, functions, methods that will be necessary, as well as a quick comment on their purpose.\\nThen you will output the content of each file including ALL code.\\nEach file must strictly follow a markdown code block format, where the following tokens must be replaced such that\\nFILENAME is the lowercase file name including the file extension,\\nLANG is the markup code block language for the code’s language, and CODE is the code:\\nFILENAME\\nCODE\\nYou will start with the “entrypoint” file, then go to the ones that are imported by that file, and so on.'), Document(id='61b9f192-a5a5-4f67-94f2-75d0c9bdbc5c', metadata={'source': 'https://lilianweng.github.io/posts/2023-06-23-agent/', 'section': 'end'}, page_content='\"content\": \"Please now remember the steps:\\\\n\\\\nThink step by step and reason yourself to the right decisions to make sure we get it right.\\\\nFirst lay out the names of the core classes, functions, methods that will be necessary, As well as a quick comment on their purpose.\\\\n\\\\nThen you will output the content of each file including ALL code.\\\\nEach file must strictly follow a markdown code block format, where the following tokens must be replaced such that\\\\nFILENAME is the lowercase file name including the file extension,\\\\nLANG is the markup code block language for the code\\'s language, and CODE is the code:\\\\n\\\\nFILENAME\\\\n```LANG\\\\nCODE\\\\n```\\\\n\\\\nPlease note that the code should be fully functional. No placeholders.\\\\n\\\\nYou will start with the \\\\\"entrypoint\\\\\" file, then go to the ones that are imported by that file, and so on.\\\\nFollow a language and framework appropriate best practice file naming convention.\\\\nMake sure that files contain all imports, types etc. The code should be fully'), Document(id='bfb8ee53-37fe-4eea-8c2b-e7e1f68f0cc8', metadata={'source': 'https://lilianweng.github.io/posts/2023-06-23-agent/', 'section': 'end'}, page_content='\"content\": \"You will get instructions for code to write.\\\\nYou will write a very long answer. Make sure that every detail of the architecture is, in the end, implemented as code.\\\\nMake sure that every detail of the architecture is, in the end, implemented as code.\\\\n\\\\nThink step by step and reason yourself to the right decisions to make sure we get it right.\\\\nYou will first lay out the names of the core classes, functions, methods that will be necessary, as well as a quick comment on their purpose.\\\\n\\\\nThen you will output the content of each file including ALL code.\\\\nEach file must strictly follow a markdown code block format, where the following tokens must be replaced such that\\\\nFILENAME is the lowercase file name including the file extension,\\\\nLANG is the markup code block language for the code\\'s language, and CODE is the code:\\\\n\\\\nFILENAME\\\\n```LANG\\\\nCODE\\\\n```\\\\n\\\\nYou will start with the \\\\\"entrypoint\\\\\" file, then go to the ones that are imported by that file, and so on.\\\\nPlease'), Document(id='c2cec7ff-a188-48e8-aee0-7c0686fb2d65', metadata={'source': 'https://lilianweng.github.io/posts/2023-06-23-agent/', 'section': 'end'}, page_content='FILENAME\\nCODE\\nYou will start with the “entrypoint” file, then go to the ones that are imported by that file, and so on.\\nPlease note that the code should be fully functional. No placeholders.\\nFollow a language and framework appropriate best practice file naming convention.\\nMake sure that files contain all imports, types etc. Make sure that code in different files are compatible with each other.\\nEnsure to implement all code, if you are unsure, write a plausible implementation.\\nInclude module dependency or package manager dependency definition file.\\nBefore you finish, double check that all parts of the architecture is present in the files.\\nUseful to know:\\nYou almost always put different classes in different files.\\nFor Python, you always create an appropriate requirements.txt file.\\nFor NodeJS, you always create an appropriate package.json file.\\nYou always add a comment briefly describing the purpose of the function definition.\\nYou try to add comments explaining very complex bits of logic.')] \n\n\nThe end of the post emphasizes the importance of detailing every aspect of the architecture through code implementation. It instructs to take a step-by-step approach, ensuring all core classes, functions, and methods are identified and documented. Additionally, it stresses the need for completeness and compatibility across different files, adhering to best practices in file naming and structure.\n"
        }
      ],
      "execution_count": 73,
      "metadata": {
        "gather": {
          "logged": 1740344146246
        }
      }
    },
    {
      "cell_type": "code",
      "source": [
        "# Stream updates a LangGraph\n",
        "# The stream mode execute the application steps one by one and output after each step.\n",
        "for step in graph.stream(\n",
        "    {\"question\": \"What does the end of the post say about Task Decomposition?\"}, \n",
        "    stream_mode=\"updates\"\n",
        "):\n",
        "    print(f\"{step}\\n\\n-----------------------------\\n\")\n"
      ],
      "outputs": [
        {
          "output_type": "stream",
          "name": "stdout",
          "text": "{'analyze_query': {'query': {'query': 'Task Decomposition', 'section': 'end'}}}\n\n-----------------------------\n\n{'_retrieve': {'context': [Document(id='33414b9f-65b3-4635-a84b-476c4d19a2fe', metadata={'source': 'https://lilianweng.github.io/posts/2023-06-23-agent/', 'section': 'end'}, page_content='You will get instructions for code to write.\\nYou will write a very long answer. Make sure that every detail of the architecture is, in the end, implemented as code.\\nMake sure that every detail of the architecture is, in the end, implemented as code.\\nThink step by step and reason yourself to the right decisions to make sure we get it right.\\nYou will first lay out the names of the core classes, functions, methods that will be necessary, as well as a quick comment on their purpose.\\nThen you will output the content of each file including ALL code.\\nEach file must strictly follow a markdown code block format, where the following tokens must be replaced such that\\nFILENAME is the lowercase file name including the file extension,\\nLANG is the markup code block language for the code’s language, and CODE is the code:\\nFILENAME\\nCODE\\nYou will start with the “entrypoint” file, then go to the ones that are imported by that file, and so on.'), Document(id='61b9f192-a5a5-4f67-94f2-75d0c9bdbc5c', metadata={'source': 'https://lilianweng.github.io/posts/2023-06-23-agent/', 'section': 'end'}, page_content='\"content\": \"Please now remember the steps:\\\\n\\\\nThink step by step and reason yourself to the right decisions to make sure we get it right.\\\\nFirst lay out the names of the core classes, functions, methods that will be necessary, As well as a quick comment on their purpose.\\\\n\\\\nThen you will output the content of each file including ALL code.\\\\nEach file must strictly follow a markdown code block format, where the following tokens must be replaced such that\\\\nFILENAME is the lowercase file name including the file extension,\\\\nLANG is the markup code block language for the code\\'s language, and CODE is the code:\\\\n\\\\nFILENAME\\\\n```LANG\\\\nCODE\\\\n```\\\\n\\\\nPlease note that the code should be fully functional. No placeholders.\\\\n\\\\nYou will start with the \\\\\"entrypoint\\\\\" file, then go to the ones that are imported by that file, and so on.\\\\nFollow a language and framework appropriate best practice file naming convention.\\\\nMake sure that files contain all imports, types etc. The code should be fully'), Document(id='bfb8ee53-37fe-4eea-8c2b-e7e1f68f0cc8', metadata={'source': 'https://lilianweng.github.io/posts/2023-06-23-agent/', 'section': 'end'}, page_content='\"content\": \"You will get instructions for code to write.\\\\nYou will write a very long answer. Make sure that every detail of the architecture is, in the end, implemented as code.\\\\nMake sure that every detail of the architecture is, in the end, implemented as code.\\\\n\\\\nThink step by step and reason yourself to the right decisions to make sure we get it right.\\\\nYou will first lay out the names of the core classes, functions, methods that will be necessary, as well as a quick comment on their purpose.\\\\n\\\\nThen you will output the content of each file including ALL code.\\\\nEach file must strictly follow a markdown code block format, where the following tokens must be replaced such that\\\\nFILENAME is the lowercase file name including the file extension,\\\\nLANG is the markup code block language for the code\\'s language, and CODE is the code:\\\\n\\\\nFILENAME\\\\n```LANG\\\\nCODE\\\\n```\\\\n\\\\nYou will start with the \\\\\"entrypoint\\\\\" file, then go to the ones that are imported by that file, and so on.\\\\nPlease'), Document(id='c2cec7ff-a188-48e8-aee0-7c0686fb2d65', metadata={'source': 'https://lilianweng.github.io/posts/2023-06-23-agent/', 'section': 'end'}, page_content='FILENAME\\nCODE\\nYou will start with the “entrypoint” file, then go to the ones that are imported by that file, and so on.\\nPlease note that the code should be fully functional. No placeholders.\\nFollow a language and framework appropriate best practice file naming convention.\\nMake sure that files contain all imports, types etc. Make sure that code in different files are compatible with each other.\\nEnsure to implement all code, if you are unsure, write a plausible implementation.\\nInclude module dependency or package manager dependency definition file.\\nBefore you finish, double check that all parts of the architecture is present in the files.\\nUseful to know:\\nYou almost always put different classes in different files.\\nFor Python, you always create an appropriate requirements.txt file.\\nFor NodeJS, you always create an appropriate package.json file.\\nYou always add a comment briefly describing the purpose of the function definition.\\nYou try to add comments explaining very complex bits of logic.')]}}\n\n-----------------------------\n\n{'generate': {'answer': 'The end of the post emphasizes the importance of task decomposition by insisting that every detail of the architectural design must be appropriately broken down and implemented into functional code. It outlines a systematic approach that starts with identifying core components and progressively detailing their implementation in code. The instructions encourage thoroughness to ensure all aspects of the architecture are addressed and compatible across different files.'}}\n\n-----------------------------\n\n"
        }
      ],
      "execution_count": 74,
      "metadata": {
        "gather": {
          "logged": 1740344223091
        }
      }
    },
    {
      "cell_type": "code",
      "source": [
        "# Stream tokens\n",
        "for message, metadata in graph.stream(\n",
        "    {\"question\": \"What does the end of the post say about Task Decomposition?\"}, \n",
        "    stream_mode=\"messages\"\n",
        "):\n",
        "    print(message.content, end=\"|\")"
      ],
      "outputs": [
        {
          "output_type": "stream",
          "name": "stdout",
          "text": "|{\"|query|\":\"|Task| De|composition|\",\"|section|\":\"|end|\"}|||||The| end| of| the| post| emphasizes| that| Task| De|composition| involves| thoroughly| planning| and| detailing| the| architecture| before| implementation|.| It| suggests| method|ically| identifying| core| classes|,| functions|,| and| files|,| and| ensuring| that| every| aspect| is| fully| coded| without| placeholders|.| Additionally|,| it| highlights| the| importance| of| following| best| practices| for| file| naming| and| organization|,| and| ensuring| all| parts| of| the| architecture| are| compatible| and| well|-d|ocumented|.||"
        }
      ],
      "execution_count": 75,
      "metadata": {
        "gather": {
          "logged": 1740344272261
        }
      }
    },
    {
      "cell_type": "markdown",
      "source": [
        "## References\n",
        "\n",
        "[LangGraph](https://langchain-ai.github.io/langgraph/)"
      ],
      "metadata": {
        "nteract": {
          "transient": {
            "deleting": false
          }
        }
      }
    },
    {
      "cell_type": "code",
      "source": [],
      "outputs": [],
      "execution_count": null,
      "metadata": {}
    }
  ],
  "metadata": {
    "kernel_info": {
      "name": "rag"
    },
    "kernelspec": {
      "name": "rag",
      "language": "python",
      "display_name": "Python (rag)"
    },
    "language_info": {
      "name": "python",
      "version": "3.11.11",
      "mimetype": "text/x-python",
      "codemirror_mode": {
        "name": "ipython",
        "version": 3
      },
      "pygments_lexer": "ipython3",
      "nbconvert_exporter": "python",
      "file_extension": ".py"
    },
    "microsoft": {
      "host": {
        "AzureML": {
          "notebookHasBeenCompleted": true
        }
      },
      "ms_spell_check": {
        "ms_spell_check_language": "en"
      }
    },
    "nteract": {
      "version": "nteract-front-end@1.0.0"
    }
  },
  "nbformat": 4,
  "nbformat_minor": 2
}